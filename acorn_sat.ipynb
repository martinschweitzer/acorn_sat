{
 "cells": [
  {
   "cell_type": "markdown",
   "metadata": {},
   "source": [
    "# ACORN-SAT using Python and Jupyter Notebook"
   ]
  },
  {
   "cell_type": "markdown",
   "metadata": {},
   "source": [
    "## Let's load some data..."
   ]
  },
  {
   "cell_type": "code",
   "execution_count": null,
   "metadata": {},
   "outputs": [],
   "source": [
    "import io\n",
    "import requests\n",
    "import pandas as pd\n",
    "\n",
    "response = requests.get('http://www.bom.gov.au/climate/change/acorn/sat/data/acorn.sat.minT.086071.daily.txt')\n",
    "file_object = io.StringIO(response.content.decode('utf-8'))\n",
    "\n",
    "tmin_melb = pd.read_csv(file_object)\n",
    "\n",
    "tmin_melb.head()"
   ]
  },
  {
   "cell_type": "code",
   "execution_count": null,
   "metadata": {},
   "outputs": [],
   "source": [
    "import pandas as pd\n",
    "\n",
    "url = \"http://www.bom.gov.au/climate/change/acorn/sat/data/acorn.sat.minT.086071.daily.txt\"\n",
    "tmin_melb = pd.read_csv(url)\n",
    "\n",
    "tmin_melb.head()"
   ]
  },
  {
   "cell_type": "code",
   "execution_count": null,
   "metadata": {},
   "outputs": [],
   "source": [
    "import pandas as pd\n",
    "\n",
    "tmin_melb = pd.read_csv('86071_tmin.csv', delimiter='\\s+', skiprows=1,)\n",
    "\n",
    "tmin_melb.head()"
   ]
  },
  {
   "cell_type": "code",
   "execution_count": null,
   "metadata": {},
   "outputs": [],
   "source": [
    "import pandas as pd\n",
    "\n",
    "tmin_melb = pd.read_csv('86071_tmin.csv', delimiter='\\s+', skiprows=1, names=['date', 'tmin'], na_values='99999.9',)\n",
    "\n",
    "tmin_melb.head()"
   ]
  },
  {
   "cell_type": "code",
   "execution_count": null,
   "metadata": {},
   "outputs": [],
   "source": [
    "import pandas as pd\n",
    "import datetime\n",
    "\n",
    "# Function to convert YYYYMMDD to Python datetime\n",
    "def make_date(n):\n",
    "    return datetime.datetime.strptime(n, '%Y%m%d')\n",
    "\n",
    "url = \"http://www.bom.gov.au/climate/change/acorn/sat/data/acorn.sat.minT.086071.daily.txt\"\n",
    "tmin_melb = pd.read_csv('86071_tmin.csv', delimiter='\\s+', skiprows=1, names=['date', 'tmin'], na_values='99999.9',\n",
    "                       index_col=0, converters={'date':make_date})\n",
    "\n",
    "tmin_melb.head(5)"
   ]
  },
  {
   "cell_type": "code",
   "execution_count": null,
   "metadata": {},
   "outputs": [],
   "source": [
    "# http://www.bom.gov.au/climate/change/hqsites/data/temp/tmin.086338.daily.csv\n",
    "import pandas as pd\n",
    "import datetime\n",
    "\n",
    "# Function to convert YYYYMMDD to Python datetime\n",
    "def make_date(n):\n",
    "    return datetime.datetime.strptime(n, '%Y-%m-%d')\n",
    "\n",
    "url = \"http://www.bom.gov.au/climate/change/hqsites/data/temp/tmin.086338.daily.csv\"\n",
    "\n",
    "tmin_melb = pd.read_csv(url, skiprows=2,  index_col=0, usecols=[0,1], names=['date', 'tmin'],\n",
    "                       converters={'date': make_date})\n",
    "tmin_melb.head(5)"
   ]
  },
  {
   "cell_type": "code",
   "execution_count": null,
   "metadata": {},
   "outputs": [],
   "source": [
    "import pandas as pd\n",
    "import datetime\n",
    "\n",
    "# Function to convert YYYYMMDD to Python datetime\n",
    "def make_date(n):\n",
    "    return pd.Timestamp.strptime(n, '%Y%m%d')\n",
    "\n",
    "# Get tmin for Melbourne\n",
    "tmin_melb = pd.read_csv('86071_tmin.csv', delimiter='\\s+', skiprows=1, names=['date', 'tmin'], na_values='99999.9',\n",
    "                       index_col=0, converters={'date':make_date})\n",
    "\n",
    "# Get tmax for Melbourne\n",
    "url = \"http://www.bom.gov.au/climate/change/acorn/sat/data/acorn.sat.maxT.086071.daily.txt\"\n",
    "tmax_melb = pd.read_csv('86071_tmax.csv', delimiter='\\s+', skiprows=1, names=['date', 'tmax'], na_values='99999.9',\n",
    "                       index_col=0, converters={'date':make_date})\n",
    "\n",
    "tmax_melb.head(5)"
   ]
  },
  {
   "cell_type": "code",
   "execution_count": null,
   "metadata": {},
   "outputs": [],
   "source": [
    "import pandas as pd\n",
    "\n",
    "tall_melb = tmin_melb.join(tmax_melb, how='outer')\n",
    "tall_melb.head(10)"
   ]
  },
  {
   "cell_type": "code",
   "execution_count": null,
   "metadata": {},
   "outputs": [],
   "source": [
    "tall_melb['tmean'] = (tall_melb['tmin'] + tall_melb['tmax']) / 2\n",
    "tall_melb.head(10)"
   ]
  },
  {
   "cell_type": "code",
   "execution_count": null,
   "metadata": {},
   "outputs": [],
   "source": [
    "tall_melb['tave'] = (tall_melb['tmin'].shift(1) + tall_melb['tmax']) / 2\n",
    "tall_melb.head(10)"
   ]
  },
  {
   "cell_type": "code",
   "execution_count": null,
   "metadata": {},
   "outputs": [],
   "source": [
    "tall_melb.describe()"
   ]
  },
  {
   "cell_type": "code",
   "execution_count": null,
   "metadata": {},
   "outputs": [],
   "source": [
    "tall_melb = tall_melb.drop('tave', axis=1)\n",
    "tall_melb.head(10)"
   ]
  },
  {
   "cell_type": "code",
   "execution_count": null,
   "metadata": {},
   "outputs": [],
   "source": [
    "%matplotlib inline\n",
    "\n",
    "tall_melb.plot()"
   ]
  },
  {
   "cell_type": "code",
   "execution_count": null,
   "metadata": {},
   "outputs": [],
   "source": [
    "tall_melb['1980-01-01':'1980-12-31'].plot()"
   ]
  },
  {
   "cell_type": "code",
   "execution_count": null,
   "metadata": {},
   "outputs": [],
   "source": [
    "tall_melb['1980-01-01':'1980-12-31'].rolling(10).mean().plot()"
   ]
  },
  {
   "cell_type": "code",
   "execution_count": null,
   "metadata": {},
   "outputs": [],
   "source": [
    "%matplotlib inline\n",
    "\n",
    "tall_melb['1980-01-01':'1980-12-31'].rolling(10, win_type='triang').mean().plot() \n",
    "# boxcar triang blackman hamming bartlett parzen bohman blackmanharris nuttall barthann"
   ]
  },
  {
   "cell_type": "code",
   "execution_count": null,
   "metadata": {},
   "outputs": [],
   "source": [
    "%matplotlib inline\n",
    "\n",
    "# Can also use an offset - e.g. number of days...\n",
    "tall_melb['1980-01-01':'1980-12-31'].rolling('10d').mean().plot()"
   ]
  },
  {
   "cell_type": "code",
   "execution_count": null,
   "metadata": {},
   "outputs": [],
   "source": [
    "# Group by month...\n",
    "\n",
    "mnth_melb = tall_melb.groupby(by=tall_melb.index.month)\n",
    "mnth_melb.mean()"
   ]
  },
  {
   "cell_type": "code",
   "execution_count": null,
   "metadata": {},
   "outputs": [],
   "source": [
    "# Find the monthly climatology for Melbourne...\n",
    "\n",
    "clim = tall_melb['1961-01-01':'1991-01-01']\n",
    "clim.groupby(by=clim.index.month).mean()"
   ]
  },
  {
   "cell_type": "code",
   "execution_count": null,
   "metadata": {},
   "outputs": [],
   "source": [
    "tall_melb['tmax'] > 42"
   ]
  },
  {
   "cell_type": "code",
   "execution_count": null,
   "metadata": {},
   "outputs": [],
   "source": [
    "# Find all days with max temp > 42\n",
    "\n",
    "# tall_melb['tmax'] > 42\n",
    "tall_melb[tall_melb['tmax'] > 42]"
   ]
  },
  {
   "cell_type": "code",
   "execution_count": null,
   "metadata": {},
   "outputs": [],
   "source": [
    "# Look at correlation...\n",
    "\n",
    "tall_melb['tmax'].corr(tall_melb['tmin'])"
   ]
  },
  {
   "cell_type": "code",
   "execution_count": null,
   "metadata": {},
   "outputs": [],
   "source": [
    "tall_melb.corr()"
   ]
  },
  {
   "cell_type": "code",
   "execution_count": null,
   "metadata": {},
   "outputs": [],
   "source": [
    "tall_melb.quantile(0.5)"
   ]
  },
  {
   "cell_type": "code",
   "execution_count": null,
   "metadata": {},
   "outputs": [],
   "source": [
    "tall_melb.quantile([0.1, 0.5, 0.9])"
   ]
  },
  {
   "cell_type": "code",
   "execution_count": null,
   "metadata": {},
   "outputs": [],
   "source": [
    "tall_melb.quantile([0.1, 0.5, 0.9], interpolation='lower') # linear’, ‘lower’, ‘higher’, ‘midpoint’, ‘nearest’"
   ]
  },
  {
   "cell_type": "code",
   "execution_count": null,
   "metadata": {},
   "outputs": [],
   "source": [
    "import seaborn as sns\n",
    "\n",
    "correlations = tall_melb.corr()\n",
    "sns.heatmap(correlations)"
   ]
  },
  {
   "cell_type": "code",
   "execution_count": null,
   "metadata": {},
   "outputs": [],
   "source": [
    "# Find the 10 hottest days in Melbourne\n",
    "\n",
    "tall_melb.sort_values(by='tmax', ascending=False).head(10)"
   ]
  },
  {
   "cell_type": "code",
   "execution_count": null,
   "metadata": {},
   "outputs": [],
   "source": [
    "pd.plotting.lag_plot(tall_melb['2010-01-01':'2011-01-01']['tmax'])"
   ]
  },
  {
   "cell_type": "code",
   "execution_count": null,
   "metadata": {},
   "outputs": [],
   "source": [
    "pd.plotting.autocorrelation_plot(tall_melb['2010-01-01':'2011-01-01']['tmax'])"
   ]
  },
  {
   "cell_type": "code",
   "execution_count": null,
   "metadata": {},
   "outputs": [],
   "source": [
    "resampled = tall_melb['2010-01-01':'2011-01-01'].tmax.resample('W').mean()\n",
    "resampled.plot()"
   ]
  },
  {
   "cell_type": "code",
   "execution_count": null,
   "metadata": {},
   "outputs": [],
   "source": [
    "import sqlite3\n",
    "import pandas as pd\n",
    "\n",
    "conn = sqlite3.connect('acorn.db')\n",
    "\n",
    "stations = pd.read_sql_query(\"SELECT * FROM stations\", conn, index_col='stn_num')\n",
    "stations.head(10)"
   ]
  },
  {
   "cell_type": "code",
   "execution_count": null,
   "metadata": {},
   "outputs": [],
   "source": [
    "stations[['lat', 'lon']].values"
   ]
  },
  {
   "cell_type": "code",
   "execution_count": null,
   "metadata": {},
   "outputs": [],
   "source": [
    "import matplotlib.pyplot as plt\n",
    "import cartopy.crs as ccrs\n",
    "import cartopy.feature as cfeature \n",
    "\n",
    "ax = plt.axes(projection=ccrs.PlateCarree()) \n",
    "ax.set_extent([100, 170, -40, -5])         \n",
    "ax.add_feature(cfeature.LAND)\n",
    "ax.add_feature(cfeature.OCEAN)\n",
    "\n",
    "plt.show()"
   ]
  },
  {
   "cell_type": "code",
   "execution_count": null,
   "metadata": {},
   "outputs": [],
   "source": [
    "import matplotlib.pyplot as plt\n",
    "import cartopy.crs as ccrs\n",
    "import cartopy.feature as cfeature \n",
    "\n",
    "ax = plt.axes(projection=ccrs.PlateCarree()) \n",
    "ax.set_extent([100, 170, -40, -5])         \n",
    "ax.add_feature(cfeature.LAND)\n",
    "ax.add_feature(cfeature.OCEAN)\n",
    "ax.scatter(stations.lon.values,stations.lat.values,transform=ccrs.PlateCarree())\n",
    "plt.show()\n",
    "# plt.savefig('acornsat.svg')"
   ]
  },
  {
   "cell_type": "code",
   "execution_count": null,
   "metadata": {},
   "outputs": [],
   "source": [
    "import sqlite3\n",
    "import pandas as pd\n",
    "\n",
    "conn = sqlite3.connect('acorn.db')\n",
    "\n",
    "data = pd.read_sql_query(\"\"\"\n",
    "    SELECT stn_num, lsd, prcp, t_min, t_max \n",
    "    FROM observations\n",
    "    WHERE lsd >= '1960-01-01'\n",
    "     AND  lsd < 1991-01-01\n",
    "    \"\"\", conn)\n",
    "data.head(10)"
   ]
  },
  {
   "cell_type": "code",
   "execution_count": null,
   "metadata": {},
   "outputs": [],
   "source": [
    "data.groupby(by=data.stn_num).mean()\n"
   ]
  },
  {
   "cell_type": "code",
   "execution_count": null,
   "metadata": {},
   "outputs": [],
   "source": [
    "import sqlite3\n",
    "import pandas as pd\n",
    "\n",
    "conn = sqlite3.connect('acorn.db')\n",
    "\n",
    "data = pd.read_sql_query(\"\"\"\n",
    "    SELECT stn_num, lsd, prcp, t_min, t_max \n",
    "    FROM observations\n",
    "    WHERE lsd == '1960-01-01'\n",
    "    \"\"\", conn)\n",
    "data.head(10)\n"
   ]
  },
  {
   "cell_type": "code",
   "execution_count": null,
   "metadata": {},
   "outputs": [],
   "source": [
    "import sqlite3\n",
    "import pandas as pd\n",
    "\n",
    "conn = sqlite3.connect('acorn.db')\n",
    "\n",
    "data = pd.read_sql_query(\"\"\"\n",
    "    SELECT lat, lon, s.stn_num,  t_max \n",
    "    FROM observations o, stations s\n",
    "    WHERE lsd == '2005-01-01'\n",
    "    AND o.stn_num = s.stn_num\n",
    "    \"\"\", conn)\n",
    "data.head(10)"
   ]
  },
  {
   "cell_type": "code",
   "execution_count": null,
   "metadata": {},
   "outputs": [],
   "source": [
    "import matplotlib.pyplot as plt\n",
    "%matplotlib inline\n",
    "\n",
    "y = data.lat.values \n",
    "x = data.lon.values \n",
    "t = data.t_max.values\n",
    "plt.scatter(x, y)\n",
    "# plt.scatter(data.lon.values,data.lat.values)\n"
   ]
  },
  {
   "cell_type": "code",
   "execution_count": null,
   "metadata": {},
   "outputs": [],
   "source": [
    "import matplotlib.pyplot as plt\n",
    "%matplotlib inline\n",
    "\n",
    "y = data.lat.values \n",
    "x = data.lon.values \n",
    "t = data.t_max.values\n",
    "plt.scatter(x, y, c=t)\n",
    "plt.colorbar()"
   ]
  },
  {
   "cell_type": "code",
   "execution_count": null,
   "metadata": {},
   "outputs": [],
   "source": [
    "import matplotlib.pyplot as plt\n",
    "%matplotlib inline\n",
    "\n",
    "y = data.lat.values \n",
    "x = data.lon.values \n",
    "t = data.t_max.values\n",
    "plt.scatter(x, y, c=t, s=t*5, alpha=0.5, cmap='plasma')\n",
    "plt.colorbar()"
   ]
  },
  {
   "cell_type": "code",
   "execution_count": null,
   "metadata": {},
   "outputs": [],
   "source": [
    "import numpy as np\n",
    "from scipy.interpolate import griddata\n",
    "\n",
    "X, Y = np.meshgrid(np.linspace(110,155,100), np.linspace(-45,-10,100))\n",
    "\n",
    "#perform the gridding\n",
    "grid_temp = griddata((x,y), t, (X, Y))\n",
    "\n",
    "# plt.clf()\n",
    "plt.contourf(X,Y,grid_temp, cmap='plasma')\n",
    "plt.colorbar()"
   ]
  },
  {
   "cell_type": "code",
   "execution_count": null,
   "metadata": {},
   "outputs": [],
   "source": []
  },
  {
   "cell_type": "code",
   "execution_count": null,
   "metadata": {},
   "outputs": [],
   "source": [
    "x = tall_melb['1961-01-01':'1991-01-01'].tmin.rolling(5).mean()\n",
    "x.quantile(0.1)\n",
    "# tall_melb['1961-01-01':'1991-01-01'].tmin.quantile(0.1)"
   ]
  },
  {
   "cell_type": "code",
   "execution_count": null,
   "metadata": {},
   "outputs": [],
   "source": [
    "x = tall_melb['1961-01-01':'1991-01-01'].tmin.rolling(5).mean()\n",
    "q10 = x.quantile(0.1)\n",
    "print(q10)\n",
    "pop = tall_melb['1999-01-01':'2000-01-01']\n",
    "total = pop.tmin.count()\n",
    "sub = pop.tmin[pop.tmin < q10].count()\n",
    "(sub / total) * 100"
   ]
  },
  {
   "cell_type": "code",
   "execution_count": null,
   "metadata": {},
   "outputs": [],
   "source": [
    "import math\n",
    "\n",
    "# a = [1, 1, 1, 1, 1, 1]\n",
    "\n",
    "a = [1, 1, 1, 2, 3, 5, 7, 7, 11, 13, 13, 13]\n",
    "\n",
    "b = [min(1, abs(x-y)) for x, y in zip(a, a[1:])] \n",
    "\n",
    "\n",
    "p = (b + [1]).index(1)\n",
    "print(p)\n",
    "a[:p] = [math.nan] * p\n",
    "try:\n",
    "    p = (b[::-1]).index(1)\n",
    "    a[-p:] = [math.nan] * p\n",
    "except:\n",
    "    pass\n",
    "\n",
    "a\n"
   ]
  },
  {
   "cell_type": "code",
   "execution_count": null,
   "metadata": {},
   "outputs": [],
   "source": []
  },
  {
   "cell_type": "code",
   "execution_count": null,
   "metadata": {},
   "outputs": [],
   "source": [
    "from mpl_toolkits import mplot3d\n",
    "\n",
    "import numpy as np\n",
    "import matplotlib.pyplot as plt\n",
    "%matplotlib inline\n",
    "\n",
    "# fig = plt.figure()\n",
    "ax = plt.axes(projection=\"3d\")\n",
    "\n",
    "plt.show()"
   ]
  },
  {
   "cell_type": "code",
   "execution_count": null,
   "metadata": {},
   "outputs": [],
   "source": [
    "# fig = plt.figure()\n",
    "ax = plt.axes(projection=\"3d\")\n",
    "\n",
    "z_line = np.linspace(0, 15, 1000)\n",
    "x_line = np.cos(z_line)\n",
    "y_line = np.sin(z_line)\n",
    "ax.plot3D(x_line, y_line, z_line, 'gray')\n",
    "\n",
    "z_points = 15 * np.random.random(100)\n",
    "x_points = np.cos(z_points) + 0.1 * np.random.randn(100)\n",
    "y_points = np.sin(z_points) + 0.1 * np.random.randn(100)\n",
    "ax.scatter3D(x_points, y_points, z_points, c=z_points, cmap='hsv');\n",
    "\n",
    "plt.show()\n"
   ]
  },
  {
   "cell_type": "code",
   "execution_count": null,
   "metadata": {},
   "outputs": [],
   "source": []
  }
 ],
 "metadata": {
  "kernelspec": {
   "display_name": "Python 3",
   "language": "python",
   "name": "python3"
  },
  "language_info": {
   "codemirror_mode": {
    "name": "ipython",
    "version": 3
   },
   "file_extension": ".py",
   "mimetype": "text/x-python",
   "name": "python",
   "nbconvert_exporter": "python",
   "pygments_lexer": "ipython3",
   "version": "3.6.5"
  }
 },
 "nbformat": 4,
 "nbformat_minor": 2
}
